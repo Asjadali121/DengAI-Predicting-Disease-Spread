{
 "cells": [
  {
   "attachments": {},
   "cell_type": "markdown",
   "metadata": {},
   "source": [
    "# FINAL PROJECT : \n",
    "###      DengAI: Predicting Disease Spread\t\t\n",
    "####               HOSTED BY DRIVENDATA\n",
    "\n",
    "- ###### Asjad ALi\n",
    "- ###### 18101144\n"
   ]
  },
  {
   "cell_type": "markdown",
   "metadata": {},
   "source": [
    "#########################################################################################################################"
   ]
  },
  {
   "cell_type": "markdown",
   "metadata": {},
   "source": [
    "### Reading the File\n",
    "- ###### df as Training Data\n",
    "- ###### df2 as Testing Data"
   ]
  },
  {
   "cell_type": "code",
   "execution_count": 22,
   "metadata": {},
   "outputs": [],
   "source": [
    "import pandas as pd\n",
    "df=pd.read_csv(r'C:\\Users\\Peritus02\\Desktop\\Project\\dengue_features_train.csv')\n",
    "df2=pd.read_csv(r'C:\\Users\\Peritus02\\Desktop\\Project\\dengue_features_test.csv')"
   ]
  },
  {
   "cell_type": "markdown",
   "metadata": {},
   "source": [
    "# Pre-Processing"
   ]
  },
  {
   "cell_type": "markdown",
   "metadata": {},
   "source": [
    "###### Checking if the Training Data Frame has the Missing Value Columns"
   ]
  },
  {
   "cell_type": "code",
   "execution_count": 23,
   "metadata": {},
   "outputs": [
    {
     "data": {
      "text/plain": [
       "Index(['ndvi_ne', 'ndvi_nw', 'ndvi_se', 'ndvi_sw', 'precipitation_amt_mm',\n",
       "       'reanalysis_air_temp_k', 'reanalysis_avg_temp_k',\n",
       "       'reanalysis_dew_point_temp_k', 'reanalysis_max_air_temp_k',\n",
       "       'reanalysis_min_air_temp_k', 'reanalysis_precip_amt_kg_per_m2',\n",
       "       'reanalysis_relative_humidity_percent', 'reanalysis_sat_precip_amt_mm',\n",
       "       'reanalysis_specific_humidity_g_per_kg', 'reanalysis_tdtr_k',\n",
       "       'station_avg_temp_c', 'station_diur_temp_rng_c', 'station_max_temp_c',\n",
       "       'station_min_temp_c', 'station_precip_mm'],\n",
       "      dtype='object')"
      ]
     },
     "execution_count": 23,
     "metadata": {},
     "output_type": "execute_result"
    }
   ],
   "source": [
    "df.columns [df.isnull().any()]"
   ]
  },
  {
   "cell_type": "markdown",
   "metadata": {},
   "source": [
    "###### Calculating How much % of the Value are Missing in each Columns to drop the highest Missing Column"
   ]
  },
  {
   "cell_type": "code",
   "execution_count": 24,
   "metadata": {},
   "outputs": [
    {
     "data": {
      "text/plain": [
       "city                                      0.000000\n",
       "year                                      0.000000\n",
       "weekofyear                                0.000000\n",
       "week_start_date                           0.000000\n",
       "ndvi_ne                                  13.324176\n",
       "ndvi_nw                                   3.571429\n",
       "ndvi_se                                   1.510989\n",
       "ndvi_sw                                   1.510989\n",
       "precipitation_amt_mm                      0.892857\n",
       "reanalysis_air_temp_k                     0.686813\n",
       "reanalysis_avg_temp_k                     0.686813\n",
       "reanalysis_dew_point_temp_k               0.686813\n",
       "reanalysis_max_air_temp_k                 0.686813\n",
       "reanalysis_min_air_temp_k                 0.686813\n",
       "reanalysis_precip_amt_kg_per_m2           0.686813\n",
       "reanalysis_relative_humidity_percent      0.686813\n",
       "reanalysis_sat_precip_amt_mm              0.892857\n",
       "reanalysis_specific_humidity_g_per_kg     0.686813\n",
       "reanalysis_tdtr_k                         0.686813\n",
       "station_avg_temp_c                        2.953297\n",
       "station_diur_temp_rng_c                   2.953297\n",
       "station_max_temp_c                        1.373626\n",
       "station_min_temp_c                        0.961538\n",
       "station_precip_mm                         1.510989\n",
       "total_cases                               0.000000\n",
       "dtype: float64"
      ]
     },
     "execution_count": 24,
     "metadata": {},
     "output_type": "execute_result"
    }
   ],
   "source": [
    "missing_percent_training = df.isnull().sum() * 100 / len(df)\n",
    "missing_percent_training"
   ]
  },
  {
   "cell_type": "markdown",
   "metadata": {},
   "source": [
    "###### Drop ndvi_ne Columns because 10% value was missing and Drop other Two Columns because the do not had any affect of chance on data and are not Changed in whole data set i.e. that are Constant,So removed to keep the model simple"
   ]
  },
  {
   "cell_type": "code",
   "execution_count": 25,
   "metadata": {},
   "outputs": [],
   "source": [
    "df = df.drop('ndvi_ne' , axis = 1)\n",
    "df = df.drop('year' , axis = 1)\n",
    "df = df.drop('week_start_date' , axis = 1)"
   ]
  },
  {
   "cell_type": "markdown",
   "metadata": {},
   "source": [
    "###### Same Steps for the Testing Data"
   ]
  },
  {
   "cell_type": "code",
   "execution_count": 26,
   "metadata": {},
   "outputs": [],
   "source": [
    "missing_percent_testing = df2.isnull().sum() * 100 / len(df2)\n",
    "df2 = df2.drop('ndvi_ne' , axis = 1)\n",
    "df2 = df2.drop('year' , axis = 1)\n",
    "df2 = df2.drop('week_start_date' , axis = 1)\n",
    "\n"
   ]
  },
  {
   "cell_type": "markdown",
   "metadata": {},
   "source": [
    "###### Converting the Catagorical Features into Numberical "
   ]
  },
  {
   "cell_type": "code",
   "execution_count": 27,
   "metadata": {},
   "outputs": [],
   "source": [
    "df[\"city\"] = df[\"city\"].astype('category')\n",
    "df[\"city\"] = df[\"city\"].cat.codes\n",
    "\n",
    "df2[\"city\"] = df2[\"city\"].astype('category')\n",
    "df2[\"city\"] = df2[\"city\"].cat.codes"
   ]
  },
  {
   "cell_type": "markdown",
   "metadata": {},
   "source": [
    "###### Filling the Remianing Missing Values by mean"
   ]
  },
  {
   "cell_type": "code",
   "execution_count": 28,
   "metadata": {},
   "outputs": [
    {
     "data": {
      "text/plain": [
       "Index([], dtype='object')"
      ]
     },
     "execution_count": 28,
     "metadata": {},
     "output_type": "execute_result"
    }
   ],
   "source": [
    "training_df= df.iloc[:,0:22]\n",
    "testing_df = df2.iloc[:,0:22]\n",
    "training_df=training_df.fillna(training_df.mean())\n",
    "training_df.columns[training_df.isnull().any()]\n",
    "\n",
    "testing_df=testing_df.fillna(testing_df.mean())\n",
    "testing_df.columns[testing_df.isnull().any()]"
   ]
  },
  {
   "cell_type": "markdown",
   "metadata": {},
   "source": [
    "###### Spliting the Training Dataframe into the Features and Labels"
   ]
  },
  {
   "cell_type": "code",
   "execution_count": 29,
   "metadata": {},
   "outputs": [],
   "source": [
    "training_df_features = training_df.iloc[:, 0:21]\n",
    "training_df_labels =  training_df.iloc[:, 21]\n"
   ]
  },
  {
   "cell_type": "markdown",
   "metadata": {},
   "source": [
    "###### Scaling was Done to Normalize the Data Set so that Regressor might Work Effectivley"
   ]
  },
  {
   "cell_type": "code",
   "execution_count": 30,
   "metadata": {},
   "outputs": [
    {
     "name": "stderr",
     "output_type": "stream",
     "text": [
      "C:\\Users\\Peritus02\\Anaconda3\\lib\\site-packages\\ipykernel_launcher.py:2: DataConversionWarning: Data with input dtype int8, int64, float64 were all converted to float64 by the scale function.\n",
      "  \n",
      "C:\\Users\\Peritus02\\Anaconda3\\lib\\site-packages\\ipykernel_launcher.py:3: DataConversionWarning: Data with input dtype int8, int64, float64 were all converted to float64 by the scale function.\n",
      "  This is separate from the ipykernel package so we can avoid doing imports until\n"
     ]
    },
    {
     "data": {
      "text/plain": [
       "array([[ 7.74596669e-01, -5.64155509e-01, -1.04547788e+00, ...,\n",
       "         4.00474022e-01, -3.90850783e-01,  1.18939835e+00],\n",
       "       [ 7.74596669e-01, -4.97311678e-01, -9.98837768e-01, ...,\n",
       "        -1.32621387e+00, -9.85386391e-02,  6.22325474e-04],\n",
       "       [ 7.74596669e-01, -4.30467847e-01,  0.00000000e+00, ...,\n",
       "         1.38854643e-01,  2.52235933e-01, -9.09125583e-01],\n",
       "       ...,\n",
       "       [-1.29099445e+00, -1.63092521e-01,  8.91368379e-01, ...,\n",
       "         3.42068921e-02, -4.49313212e-01,  1.71257606e+00],\n",
       "       [-1.29099445e+00, -9.62486899e-02,  1.26213145e+00, ...,\n",
       "        -1.75088611e-01, -3.32388354e-01, -5.19076020e-03],\n",
       "       [-1.29099445e+00, -2.94048585e-02,  8.12746062e-01, ...,\n",
       "         3.42068921e-02, -2.15463497e-01, -5.63246985e-01]])"
      ]
     },
     "execution_count": 30,
     "metadata": {},
     "output_type": "execute_result"
    }
   ],
   "source": [
    "from sklearn import preprocessing\n",
    "training_df_features = preprocessing.scale(training_df_features)\n",
    "testing_df = preprocessing.scale(testing_df)\n",
    "testing_df"
   ]
  },
  {
   "cell_type": "markdown",
   "metadata": {},
   "source": [
    "###### Feature Selection is done using  Linear Support Vector Classification to Pick K BEST Features and to reduce Dimenstion"
   ]
  },
  {
   "cell_type": "code",
   "execution_count": 31,
   "metadata": {},
   "outputs": [
    {
     "data": {
      "text/plain": [
       "(1456, 6)"
      ]
     },
     "execution_count": 31,
     "metadata": {},
     "output_type": "execute_result"
    }
   ],
   "source": [
    "from sklearn.svm import LinearSVC\n",
    "from sklearn.feature_selection import SelectFromModel\n",
    "\n",
    "lsvc = LinearSVC(C=0.01, penalty=\"l1\", dual=False).fit(training_df_features, training_df_labels)\n",
    "model = SelectFromModel(lsvc, prefit=True)\n",
    "training_df_features = model.transform(training_df_features)\n",
    "testing_df = model.transform(testing_df)\n",
    "training_df_features.shape\n"
   ]
  },
  {
   "cell_type": "markdown",
   "metadata": {},
   "source": [
    "# Model Implementation"
   ]
  },
  {
   "cell_type": "markdown",
   "metadata": {},
   "source": [
    "###### Keras: Regression-based neural networks"
   ]
  },
  {
   "cell_type": "code",
   "execution_count": 32,
   "metadata": {},
   "outputs": [
    {
     "name": "stderr",
     "output_type": "stream",
     "text": [
      "Using TensorFlow backend.\n"
     ]
    }
   ],
   "source": [
    "from keras import Sequential\n",
    "from keras.layers import Dense\n",
    "def build_regressor():\n",
    "    regressor = Sequential()\n",
    "    regressor.add(Dense(units=12, input_dim=6))\n",
    "    regressor.add(Dense(units=1))\n",
    "    regressor.compile(optimizer='adam', loss='mean_squared_error',  metrics=['mae','accuracy'])\n",
    "    return regressor"
   ]
  },
  {
   "cell_type": "code",
   "execution_count": 33,
   "metadata": {},
   "outputs": [],
   "source": [
    "from keras.wrappers.scikit_learn import KerasRegressor\n",
    "regressor = KerasRegressor(build_fn=build_regressor, batch_size=32,epochs=100)"
   ]
  },
  {
   "cell_type": "markdown",
   "metadata": {},
   "source": [
    "###### Fitting the Model on to the Traning Data Set "
   ]
  },
  {
   "cell_type": "code",
   "execution_count": 34,
   "metadata": {},
   "outputs": [
    {
     "name": "stdout",
     "output_type": "stream",
     "text": [
      "WARNING:tensorflow:From C:\\Users\\Peritus02\\Anaconda3\\lib\\site-packages\\tensorflow\\python\\framework\\op_def_library.py:263: colocate_with (from tensorflow.python.framework.ops) is deprecated and will be removed in a future version.\n",
      "Instructions for updating:\n",
      "Colocations handled automatically by placer.\n",
      "WARNING:tensorflow:From C:\\Users\\Peritus02\\Anaconda3\\lib\\site-packages\\tensorflow\\python\\ops\\math_ops.py:3066: to_int32 (from tensorflow.python.ops.math_ops) is deprecated and will be removed in a future version.\n",
      "Instructions for updating:\n",
      "Use tf.cast instead.\n",
      "Epoch 1/100\n",
      "1456/1456 [==============================] - 0s 172us/step - loss: 2497.4387 - mean_absolute_error: 24.6322 - acc: 0.0275\n",
      "Epoch 2/100\n",
      "1456/1456 [==============================] - 0s 33us/step - loss: 2467.9145 - mean_absolute_error: 24.4184 - acc: 0.0247\n",
      "Epoch 3/100\n",
      "1456/1456 [==============================] - 0s 30us/step - loss: 2435.8404 - mean_absolute_error: 24.2081 - acc: 0.0206\n",
      "Epoch 4/100\n",
      "1456/1456 [==============================] - 0s 33us/step - loss: 2398.3412 - mean_absolute_error: 23.9664 - acc: 0.0213\n",
      "Epoch 5/100\n",
      "1456/1456 [==============================] - 0s 36us/step - loss: 2355.7015 - mean_absolute_error: 23.7482 - acc: 0.0206\n",
      "Epoch 6/100\n",
      "1456/1456 [==============================] - 0s 33us/step - loss: 2309.1939 - mean_absolute_error: 23.5076 - acc: 0.0227\n",
      "Epoch 7/100\n",
      "1456/1456 [==============================] - 0s 41us/step - loss: 2262.5458 - mean_absolute_error: 23.3140 - acc: 0.0261\n",
      "Epoch 8/100\n",
      "1456/1456 [==============================] - 0s 36us/step - loss: 2219.0591 - mean_absolute_error: 23.2214 - acc: 0.0179\n",
      "Epoch 9/100\n",
      "1456/1456 [==============================] - 0s 49us/step - loss: 2179.3471 - mean_absolute_error: 23.1498 - acc: 0.0110\n",
      "Epoch 10/100\n",
      "1456/1456 [==============================] - 0s 49us/step - loss: 2141.4967 - mean_absolute_error: 23.0154 - acc: 0.0165\n",
      "Epoch 11/100\n",
      "1456/1456 [==============================] - 0s 47us/step - loss: 2106.9709 - mean_absolute_error: 22.9152 - acc: 0.0213\n",
      "Epoch 12/100\n",
      "1456/1456 [==============================] - 0s 55us/step - loss: 2072.3321 - mean_absolute_error: 22.7108 - acc: 0.0206\n",
      "Epoch 13/100\n",
      "1456/1456 [==============================] - 0s 49us/step - loss: 2039.2983 - mean_absolute_error: 22.5059 - acc: 0.0103\n",
      "Epoch 14/100\n",
      "1456/1456 [==============================] - 0s 44us/step - loss: 2007.1308 - mean_absolute_error: 22.2204 - acc: 0.0185\n",
      "Epoch 15/100\n",
      "1456/1456 [==============================] - 0s 41us/step - loss: 1974.5312 - mean_absolute_error: 21.9807 - acc: 0.0096\n",
      "Epoch 16/100\n",
      "1456/1456 [==============================] - 0s 41us/step - loss: 1943.7432 - mean_absolute_error: 21.6667 - acc: 0.0165\n",
      "Epoch 17/100\n",
      "1456/1456 [==============================] - 0s 47us/step - loss: 1914.4361 - mean_absolute_error: 21.4622 - acc: 0.0130\n",
      "Epoch 18/100\n",
      "1456/1456 [==============================] - 0s 41us/step - loss: 1885.5408 - mean_absolute_error: 21.0931 - acc: 0.0117\n",
      "Epoch 19/100\n",
      "1456/1456 [==============================] - 0s 44us/step - loss: 1859.3233 - mean_absolute_error: 20.7550 - acc: 0.0158\n",
      "Epoch 20/100\n",
      "1456/1456 [==============================] - 0s 41us/step - loss: 1834.7213 - mean_absolute_error: 20.4533 - acc: 0.0199\n",
      "Epoch 21/100\n",
      "1456/1456 [==============================] - 0s 44us/step - loss: 1812.1318 - mean_absolute_error: 20.1984 - acc: 0.0192\n",
      "Epoch 22/100\n",
      "1456/1456 [==============================] - 0s 41us/step - loss: 1791.9362 - mean_absolute_error: 19.9427 - acc: 0.0151\n",
      "Epoch 23/100\n",
      "1456/1456 [==============================] - 0s 41us/step - loss: 1773.7886 - mean_absolute_error: 19.7922 - acc: 0.0220\n",
      "Epoch 24/100\n",
      "1456/1456 [==============================] - 0s 44us/step - loss: 1758.2686 - mean_absolute_error: 19.7593 - acc: 0.0316\n",
      "Epoch 25/100\n",
      "1456/1456 [==============================] - 0s 41us/step - loss: 1744.4060 - mean_absolute_error: 19.5573 - acc: 0.0357\n",
      "Epoch 26/100\n",
      "1456/1456 [==============================] - 0s 41us/step - loss: 1733.0981 - mean_absolute_error: 19.6001 - acc: 0.0309\n",
      "Epoch 27/100\n",
      "1456/1456 [==============================] - 0s 41us/step - loss: 1723.0003 - mean_absolute_error: 19.4837 - acc: 0.0220\n",
      "Epoch 28/100\n",
      "1456/1456 [==============================] - 0s 44us/step - loss: 1715.2739 - mean_absolute_error: 19.6375 - acc: 0.0213\n",
      "Epoch 29/100\n",
      "1456/1456 [==============================] - 0s 41us/step - loss: 1708.5874 - mean_absolute_error: 19.7059 - acc: 0.0144\n",
      "Epoch 30/100\n",
      "1456/1456 [==============================] - 0s 41us/step - loss: 1702.8814 - mean_absolute_error: 19.6374 - acc: 0.0295\n",
      "Epoch 31/100\n",
      "1456/1456 [==============================] - 0s 44us/step - loss: 1698.1222 - mean_absolute_error: 19.7637 - acc: 0.0282\n",
      "Epoch 32/100\n",
      "1456/1456 [==============================] - 0s 41us/step - loss: 1694.9866 - mean_absolute_error: 19.8893 - acc: 0.0234\n",
      "Epoch 33/100\n",
      "1456/1456 [==============================] - 0s 38us/step - loss: 1692.0264 - mean_absolute_error: 19.9074 - acc: 0.0234\n",
      "Epoch 34/100\n",
      "1456/1456 [==============================] - 0s 41us/step - loss: 1690.1688 - mean_absolute_error: 20.0300 - acc: 0.0234\n",
      "Epoch 35/100\n",
      "1456/1456 [==============================] - 0s 44us/step - loss: 1688.1190 - mean_absolute_error: 20.1160 - acc: 0.0247\n",
      "Epoch 36/100\n",
      "1456/1456 [==============================] - 0s 41us/step - loss: 1688.0658 - mean_absolute_error: 20.0389 - acc: 0.0268\n",
      "Epoch 37/100\n",
      "1456/1456 [==============================] - 0s 41us/step - loss: 1686.1860 - mean_absolute_error: 20.1186 - acc: 0.0220\n",
      "Epoch 38/100\n",
      "1456/1456 [==============================] - 0s 44us/step - loss: 1685.6675 - mean_absolute_error: 20.3384 - acc: 0.0240\n",
      "Epoch 39/100\n",
      "1456/1456 [==============================] - 0s 38us/step - loss: 1684.5483 - mean_absolute_error: 20.3764 - acc: 0.0234\n",
      "Epoch 40/100\n",
      "1456/1456 [==============================] - 0s 38us/step - loss: 1684.2060 - mean_absolute_error: 20.3320 - acc: 0.0213\n",
      "Epoch 41/100\n",
      "1456/1456 [==============================] - 0s 38us/step - loss: 1683.8698 - mean_absolute_error: 20.3975 - acc: 0.0275\n",
      "Epoch 42/100\n",
      "1456/1456 [==============================] - 0s 38us/step - loss: 1683.8688 - mean_absolute_error: 20.4518 - acc: 0.0323\n",
      "Epoch 43/100\n",
      "1456/1456 [==============================] - 0s 33us/step - loss: 1684.3336 - mean_absolute_error: 20.4092 - acc: 0.0295\n",
      "Epoch 44/100\n",
      "1456/1456 [==============================] - 0s 41us/step - loss: 1683.1679 - mean_absolute_error: 20.4907 - acc: 0.0350\n",
      "Epoch 45/100\n",
      "1456/1456 [==============================] - 0s 41us/step - loss: 1683.8835 - mean_absolute_error: 20.4991 - acc: 0.0316\n",
      "Epoch 46/100\n",
      "1456/1456 [==============================] - 0s 38us/step - loss: 1683.2353 - mean_absolute_error: 20.5489 - acc: 0.0309\n",
      "Epoch 47/100\n",
      "1456/1456 [==============================] - 0s 36us/step - loss: 1682.9960 - mean_absolute_error: 20.5879 - acc: 0.0309\n",
      "Epoch 48/100\n",
      "1456/1456 [==============================] - 0s 41us/step - loss: 1683.0643 - mean_absolute_error: 20.5781 - acc: 0.0302\n",
      "Epoch 49/100\n",
      "1456/1456 [==============================] - 0s 36us/step - loss: 1683.1142 - mean_absolute_error: 20.5477 - acc: 0.0323\n",
      "Epoch 50/100\n",
      "1456/1456 [==============================] - 0s 36us/step - loss: 1683.1460 - mean_absolute_error: 20.5755 - acc: 0.0309\n",
      "Epoch 51/100\n",
      "1456/1456 [==============================] - 0s 36us/step - loss: 1682.7420 - mean_absolute_error: 20.6352 - acc: 0.0268\n",
      "Epoch 52/100\n",
      "1456/1456 [==============================] - 0s 36us/step - loss: 1683.3799 - mean_absolute_error: 20.5928 - acc: 0.0268\n",
      "Epoch 53/100\n",
      "1456/1456 [==============================] - 0s 33us/step - loss: 1682.7382 - mean_absolute_error: 20.6293 - acc: 0.0302\n",
      "Epoch 54/100\n",
      "1456/1456 [==============================] - 0s 104us/step - loss: 1682.8617 - mean_absolute_error: 20.6998 - acc: 0.0254\n",
      "Epoch 55/100\n",
      "1456/1456 [==============================] - 0s 36us/step - loss: 1682.7868 - mean_absolute_error: 20.6632 - acc: 0.0261\n",
      "Epoch 56/100\n",
      "1456/1456 [==============================] - 0s 36us/step - loss: 1682.8693 - mean_absolute_error: 20.6550 - acc: 0.0240\n",
      "Epoch 57/100\n",
      "1456/1456 [==============================] - 0s 38us/step - loss: 1682.9390 - mean_absolute_error: 20.5991 - acc: 0.0316\n"
     ]
    },
    {
     "name": "stdout",
     "output_type": "stream",
     "text": [
      "Epoch 58/100\n",
      "1456/1456 [==============================] - 0s 33us/step - loss: 1682.8852 - mean_absolute_error: 20.6249 - acc: 0.0254\n",
      "Epoch 59/100\n",
      "1456/1456 [==============================] - 0s 41us/step - loss: 1682.7320 - mean_absolute_error: 20.6421 - acc: 0.0254\n",
      "Epoch 60/100\n",
      "1456/1456 [==============================] - 0s 38us/step - loss: 1683.0307 - mean_absolute_error: 20.6967 - acc: 0.0240\n",
      "Epoch 61/100\n",
      "1456/1456 [==============================] - 0s 41us/step - loss: 1683.1431 - mean_absolute_error: 20.7015 - acc: 0.0261\n",
      "Epoch 62/100\n",
      "1456/1456 [==============================] - 0s 36us/step - loss: 1682.9825 - mean_absolute_error: 20.6309 - acc: 0.0254\n",
      "Epoch 63/100\n",
      "1456/1456 [==============================] - 0s 41us/step - loss: 1682.8154 - mean_absolute_error: 20.5853 - acc: 0.0268\n",
      "Epoch 64/100\n",
      "1456/1456 [==============================] - 0s 36us/step - loss: 1682.4447 - mean_absolute_error: 20.6414 - acc: 0.0268\n",
      "Epoch 65/100\n",
      "1456/1456 [==============================] - 0s 33us/step - loss: 1682.6907 - mean_absolute_error: 20.6335 - acc: 0.0261\n",
      "Epoch 66/100\n",
      "1456/1456 [==============================] - 0s 33us/step - loss: 1683.1178 - mean_absolute_error: 20.7176 - acc: 0.0247\n",
      "Epoch 67/100\n",
      "1456/1456 [==============================] - 0s 36us/step - loss: 1682.8946 - mean_absolute_error: 20.6413 - acc: 0.0254\n",
      "Epoch 68/100\n",
      "1456/1456 [==============================] - 0s 36us/step - loss: 1682.6191 - mean_absolute_error: 20.6016 - acc: 0.0254\n",
      "Epoch 69/100\n",
      "1456/1456 [==============================] - 0s 33us/step - loss: 1683.7406 - mean_absolute_error: 20.7166 - acc: 0.0247\n",
      "Epoch 70/100\n",
      "1456/1456 [==============================] - 0s 35us/step - loss: 1682.8290 - mean_absolute_error: 20.6149 - acc: 0.0261\n",
      "Epoch 71/100\n",
      "1456/1456 [==============================] - 0s 35us/step - loss: 1682.9673 - mean_absolute_error: 20.6568 - acc: 0.0240\n",
      "Epoch 72/100\n",
      "1456/1456 [==============================] - 0s 34us/step - loss: 1682.6647 - mean_absolute_error: 20.6739 - acc: 0.0268\n",
      "Epoch 73/100\n",
      "1456/1456 [==============================] - 0s 33us/step - loss: 1682.6279 - mean_absolute_error: 20.6660 - acc: 0.0261\n",
      "Epoch 74/100\n",
      "1456/1456 [==============================] - 0s 33us/step - loss: 1682.9774 - mean_absolute_error: 20.6006 - acc: 0.0261\n",
      "Epoch 75/100\n",
      "1456/1456 [==============================] - 0s 33us/step - loss: 1682.6117 - mean_absolute_error: 20.6845 - acc: 0.0247\n",
      "Epoch 76/100\n",
      "1456/1456 [==============================] - 0s 36us/step - loss: 1682.7360 - mean_absolute_error: 20.6195 - acc: 0.0254\n",
      "Epoch 77/100\n",
      "1456/1456 [==============================] - 0s 36us/step - loss: 1682.1833 - mean_absolute_error: 20.6556 - acc: 0.0268\n",
      "Epoch 78/100\n",
      "1456/1456 [==============================] - 0s 33us/step - loss: 1683.0422 - mean_absolute_error: 20.7317 - acc: 0.0220\n",
      "Epoch 79/100\n",
      "1456/1456 [==============================] - 0s 36us/step - loss: 1682.6485 - mean_absolute_error: 20.6530 - acc: 0.0240\n",
      "Epoch 80/100\n",
      "1456/1456 [==============================] - 0s 33us/step - loss: 1682.6796 - mean_absolute_error: 20.7191 - acc: 0.0227\n",
      "Epoch 81/100\n",
      "1456/1456 [==============================] - 0s 33us/step - loss: 1682.1989 - mean_absolute_error: 20.7115 - acc: 0.0268\n",
      "Epoch 82/100\n",
      "1456/1456 [==============================] - 0s 33us/step - loss: 1682.6732 - mean_absolute_error: 20.6639 - acc: 0.0275\n",
      "Epoch 83/100\n",
      "1456/1456 [==============================] - 0s 33us/step - loss: 1682.8934 - mean_absolute_error: 20.6606 - acc: 0.0247\n",
      "Epoch 84/100\n",
      "1456/1456 [==============================] - 0s 36us/step - loss: 1682.4138 - mean_absolute_error: 20.6962 - acc: 0.0227\n",
      "Epoch 85/100\n",
      "1456/1456 [==============================] - 0s 36us/step - loss: 1682.2071 - mean_absolute_error: 20.6525 - acc: 0.0240\n",
      "Epoch 86/100\n",
      "1456/1456 [==============================] - 0s 36us/step - loss: 1682.9572 - mean_absolute_error: 20.6715 - acc: 0.0268\n",
      "Epoch 87/100\n",
      "1456/1456 [==============================] - 0s 36us/step - loss: 1683.4200 - mean_absolute_error: 20.5648 - acc: 0.0295\n",
      "Epoch 88/100\n",
      "1456/1456 [==============================] - 0s 33us/step - loss: 1682.4715 - mean_absolute_error: 20.6485 - acc: 0.0234\n",
      "Epoch 89/100\n",
      "1456/1456 [==============================] - 0s 36us/step - loss: 1682.4328 - mean_absolute_error: 20.6798 - acc: 0.0234\n",
      "Epoch 90/100\n",
      "1456/1456 [==============================] - 0s 36us/step - loss: 1682.3706 - mean_absolute_error: 20.6686 - acc: 0.0240\n",
      "Epoch 91/100\n",
      "1456/1456 [==============================] - 0s 32us/step - loss: 1682.3683 - mean_absolute_error: 20.6686 - acc: 0.0234\n",
      "Epoch 92/100\n",
      "1456/1456 [==============================] - 0s 38us/step - loss: 1682.4478 - mean_absolute_error: 20.6716 - acc: 0.0254\n",
      "Epoch 93/100\n",
      "1456/1456 [==============================] - 0s 33us/step - loss: 1682.2992 - mean_absolute_error: 20.6793 - acc: 0.0185\n",
      "Epoch 94/100\n",
      "1456/1456 [==============================] - 0s 36us/step - loss: 1683.3798 - mean_absolute_error: 20.5429 - acc: 0.0247\n",
      "Epoch 95/100\n",
      "1456/1456 [==============================] - 0s 36us/step - loss: 1682.3873 - mean_absolute_error: 20.6318 - acc: 0.0234\n",
      "Epoch 96/100\n",
      "1456/1456 [==============================] - 0s 41us/step - loss: 1682.5227 - mean_absolute_error: 20.6530 - acc: 0.0234\n",
      "Epoch 97/100\n",
      "1456/1456 [==============================] - 0s 37us/step - loss: 1682.4389 - mean_absolute_error: 20.6114 - acc: 0.0234\n",
      "Epoch 98/100\n",
      "1456/1456 [==============================] - 0s 33us/step - loss: 1683.1807 - mean_absolute_error: 20.5903 - acc: 0.0268\n",
      "Epoch 99/100\n",
      "1456/1456 [==============================] - 0s 36us/step - loss: 1682.7976 - mean_absolute_error: 20.5851 - acc: 0.0234\n",
      "Epoch 100/100\n",
      "1456/1456 [==============================] - 0s 38us/step - loss: 1682.5357 - mean_absolute_error: 20.6621 - acc: 0.0254\n"
     ]
    },
    {
     "data": {
      "text/plain": [
       "<keras.callbacks.History at 0x2131c5313c8>"
      ]
     },
     "execution_count": 34,
     "metadata": {},
     "output_type": "execute_result"
    }
   ],
   "source": [
    "regressor.fit(training_df_features,training_df_labels)"
   ]
  },
  {
   "cell_type": "markdown",
   "metadata": {},
   "source": [
    "###### Prediction Using Model  "
   ]
  },
  {
   "cell_type": "code",
   "execution_count": 35,
   "metadata": {},
   "outputs": [],
   "source": [
    "y_pred= regressor.predict(testing_df)"
   ]
  },
  {
   "cell_type": "markdown",
   "metadata": {},
   "source": [
    "###### Writing the Pridiction results into the Submission File as per as Data Driven"
   ]
  },
  {
   "cell_type": "code",
   "execution_count": 36,
   "metadata": {},
   "outputs": [],
   "source": [
    "out_df=pd.read_csv(r'C:\\Users\\Peritus02\\Desktop\\Project\\submission_format.csv')\n",
    "y_pred[y_pred<0] = 0\n",
    "y_pred=y_pred.astype('int64')\n",
    "out_df.total_cases = y_pred\n",
    "out_df.to_csv(r'C:\\Users\\Peritus02\\Desktop\\Project\\submission_format_new__8.csv')"
   ]
  },
  {
   "cell_type": "code",
   "execution_count": null,
   "metadata": {},
   "outputs": [],
   "source": []
  }
 ],
 "metadata": {
  "kernelspec": {
   "display_name": "Python 3",
   "language": "python",
   "name": "python3"
  },
  "language_info": {
   "codemirror_mode": {
    "name": "ipython",
    "version": 3
   },
   "file_extension": ".py",
   "mimetype": "text/x-python",
   "name": "python",
   "nbconvert_exporter": "python",
   "pygments_lexer": "ipython3",
   "version": "3.7.1"
  }
 },
 "nbformat": 4,
 "nbformat_minor": 2
}
